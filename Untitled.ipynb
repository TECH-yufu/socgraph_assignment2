{
 "cells": [
  {
   "cell_type": "code",
   "execution_count": 6,
   "metadata": {},
   "outputs": [],
   "source": [
    "import networkx as nx\n",
    "import pickle\n",
    "import numpy as np\n",
    "from tqdm.notebook import tqdm\n",
    "import matplotlib.pyplot as plt\n",
    "from scipy import stats\n",
    "from fa2 import ForceAtlas2\n",
    "import powerlaw\n",
    "import pandas as pd\n",
    "import nltk\n",
    "import numpy as np\n",
    "import random\n",
    "from wordcloud import WordCloud\n",
    "import os\n",
    "import pandas as pd\n",
    "\n",
    "with open('graph.pickle', 'rb') as handle:\n",
    "    G = pickle.load(handle)\n",
    "    \n",
    "# load character dataframe\n",
    "with open('df.pickle', 'rb') as handle:\n",
    "    df = pickle.load(handle)"
   ]
  },
  {
   "cell_type": "code",
   "execution_count": 5,
   "metadata": {},
   "outputs": [],
   "source": [
    "# get edge_list\n",
    "nx.write_edgelist(G, path='edge_list')"
   ]
  },
  {
   "cell_type": "code",
   "execution_count": 29,
   "metadata": {},
   "outputs": [],
   "source": [
    "for node in G.nodes():\n",
    "    text = list(df.loc[df['WikiLink'] == node]['WikiText'])\n",
    "    \n",
    "    if len(text) > 0:\n",
    "    \n",
    "        with open('plaintext/{}.txt'.format(node), 'w', encoding=\"utf-8\") as f:\n",
    "            f.write(' '.join(text))"
   ]
  }
 ],
 "metadata": {
  "kernelspec": {
   "display_name": "Python 3",
   "language": "python",
   "name": "python3"
  },
  "language_info": {
   "codemirror_mode": {
    "name": "ipython",
    "version": 3
   },
   "file_extension": ".py",
   "mimetype": "text/x-python",
   "name": "python",
   "nbconvert_exporter": "python",
   "pygments_lexer": "ipython3",
   "version": "3.8.5"
  }
 },
 "nbformat": 4,
 "nbformat_minor": 4
}
